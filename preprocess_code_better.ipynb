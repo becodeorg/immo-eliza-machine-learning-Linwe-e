{
 "cells": [
  {
   "cell_type": "code",
   "execution_count": 120,
   "id": "fb43251d",
   "metadata": {},
   "outputs": [],
   "source": [
    "%matplotlib widget\n",
    "\n",
    "import pandas as pd\n",
    "import matplotlib.pyplot as plt\n",
    "import numpy as np\n",
    "import seaborn as sns\n",
    "\n",
    "\n",
    "\n",
    "# Lecture du fichier\n",
    "df = pd.read_csv(\"data\\Kangaroo.csv\")"
   ]
  },
  {
   "cell_type": "markdown",
   "id": "30d8996a",
   "metadata": {},
   "source": [
    "### Drop columns"
   ]
  },
  {
   "cell_type": "code",
   "execution_count": null,
   "id": "549acecc",
   "metadata": {},
   "outputs": [
    {
     "data": {
      "text/plain": [
       "province\n",
       "West Flanders      15515\n",
       "Antwerp            12475\n",
       "East Flanders      10920\n",
       "Brussels            8354\n",
       "Hainaut             8036\n",
       "Liège               6822\n",
       "Flemish Brabant     6790\n",
       "Limburg             3586\n",
       "Walloon Brabant     2948\n",
       "Namur               2902\n",
       "Luxembourg          2020\n",
       "Name: count, dtype: int64"
      ]
     },
     "execution_count": 121,
     "metadata": {},
     "output_type": "execute_result"
    }
   ],
   "source": [
    "\n",
    "# Liste des colonnes à supprimer \n",
    "cols_to_drop = [\n",
    "    \"Unnamed: 0\", \"id\", \"url\", \"roomCount\", \"monthlyCost\",\n",
    "    \"hasAttic\", \"hasBasement\", \"hasDressingRoom\", \"diningRoomSurface\", \"hasDiningRoom\",\n",
    "    \"streetFacadeWidth\", \"hasLift\", \"hasHeatPump\",\n",
    "    \"hasPhotovoltaicPanels\", \"hasThermicPanels\", \"kitchenSurface\",\n",
    "    \"hasLivingRoom\", \"livingRoomSurface\", \"hasBalcony\",\n",
    "    \"gardenOrientation\", \"parkingCountIndoor\", \"parkingCountOutdoor\",\n",
    "    \"hasAirConditioning\", \"hasArmoredDoor\", \"hasVisiophone\", \"hasOffice\",\n",
    "    \"terraceSurface\", \"terraceOrientation\", \"accessibleDisabledPeople\"\n",
    "]\n",
    "\n",
    "# Suppression\n",
    "df.drop(cols_to_drop, axis=1, inplace=True)\n",
    "\n",
    "# Check columns\n",
    "df.columns\n",
    "\n"
   ]
  },
  {
   "cell_type": "markdown",
   "id": "e763d847",
   "metadata": {},
   "source": [
    "### Type feature"
   ]
  },
  {
   "cell_type": "code",
   "execution_count": 117,
   "id": "06d47163",
   "metadata": {},
   "outputs": [],
   "source": [
    "# Filter rows based on column: 'type'\n",
    "df = df[~ df['type'].isin(['APARTMENT_GROUP', 'HOUSE_GROUP'])]"
   ]
  },
  {
   "cell_type": "markdown",
   "id": "cebe2fc9",
   "metadata": {},
   "source": [
    "### Grouping subtypes"
   ]
  },
  {
   "cell_type": "code",
   "execution_count": 118,
   "id": "646cf1dc",
   "metadata": {},
   "outputs": [
    {
     "data": {
      "text/plain": [
       "subtype_grouped\n",
       "STANDARD_HOUSE        34882\n",
       "STANDARD_APARTMENT    27778\n",
       "LUXURY_PROPERTY        5240\n",
       "SPECIAL_APARTMENT      3366\n",
       "MIXED_USE              1840\n",
       "RURAL_HOUSE             764\n",
       "OTHER                    54\n",
       "Name: count, dtype: int64"
      ]
     },
     "execution_count": 118,
     "metadata": {},
     "output_type": "execute_result"
    }
   ],
   "source": [
    "# Subtype_grouped\n",
    "subtype_mapping = {\n",
    "    'EXCEPTIONAL_PROPERTY': 'LUXURY_PROPERTY',\n",
    "    'VILLA': 'LUXURY_PROPERTY',\n",
    "    'MANSION': 'LUXURY_PROPERTY',\n",
    "    'CASTLE': 'LUXURY_PROPERTY',\n",
    "    'MANOR_HOUSE': 'LUXURY_PROPERTY',\n",
    "    'HOUSE': 'STANDARD_HOUSE',\n",
    "    'TOWN_HOUSE': 'STANDARD_HOUSE',\n",
    "    'BUNGALOW': 'STANDARD_HOUSE',\n",
    "    'PAVILION': 'STANDARD_HOUSE',\n",
    "    'COUNTRY_COTTAGE': 'RURAL_HOUSE',\n",
    "    'FARMHOUSE': 'RURAL_HOUSE',\n",
    "    'CHALET': 'RURAL_HOUSE',\n",
    "    'APARTMENT': 'STANDARD_APARTMENT',\n",
    "    'GROUND_FLOOR': 'STANDARD_APARTMENT',\n",
    "    'FLAT_STUDIO': 'STANDARD_APARTMENT',\n",
    "    'SERVICE_FLAT': 'STANDARD_APARTMENT',\n",
    "    'KOT': 'STANDARD_APARTMENT',\n",
    "    'PENTHOUSE': 'SPECIAL_APARTMENT',\n",
    "    'DUPLEX': 'SPECIAL_APARTMENT',\n",
    "    'TRIPLEX': 'SPECIAL_APARTMENT',\n",
    "    'LOFT': 'SPECIAL_APARTMENT',\n",
    "    'MIXED_USE_BUILDING': 'MIXED_USE',\n",
    "    'OTHER_PROPERTY': 'OTHER'\n",
    "}\n",
    "# Appliquer le mapping\n",
    "df['subtype_grouped'] = df['subtype'].map(subtype_mapping)\n",
    "# Drop column: 'subtype'\n",
    "df = df.drop(columns=['subtype'])\n",
    "\n",
    "df['subtype_grouped'].value_counts()"
   ]
  },
  {
   "cell_type": "markdown",
   "id": "53e34110",
   "metadata": {},
   "source": [
    "### Check and drop Outliers"
   ]
  },
  {
   "cell_type": "markdown",
   "id": "f009c678",
   "metadata": {},
   "source": [
    "Data visualization for outliers"
   ]
  },
  {
   "cell_type": "code",
   "execution_count": null,
   "id": "79ce6027",
   "metadata": {},
   "outputs": [
    {
     "ename": "",
     "evalue": "",
     "output_type": "error",
     "traceback": [
      "\u001b[1;31mnotebook controller is DISPOSED. \n",
      "\u001b[1;31mView Jupyter <a href='command:jupyter.viewOutput'>log</a> for further details."
     ]
    }
   ],
   "source": [
    "# #Datavisualization for outliers\n",
    "\n",
    "# # Sans NaN\n",
    "# data = df[\"price\"].dropna()\n",
    "\n",
    "\n",
    "# p10, p90, p95 = data.quantile([0.10, 0.90, 0.95]).values\n",
    "\n",
    "# # 3) Boxplot horizontal avec ligne pour le 95ᵉ percentile\n",
    "# fig, ax = plt.subplots(figsize=(12, 6))\n",
    "# ax.boxplot(data, vert=False, showfliers=True)\n",
    "# ax.axvline(p95, color=\"red\", linestyle=\"--\", label=\"95ᵉ percentile\")\n",
    "# ax.set_title(\"Boxplot de price\", fontsize=16)\n",
    "# ax.set_xlabel(\"price\", fontsize=14)\n",
    "# ax.legend()\n",
    "# plt.show()\n",
    "\n",
    "\n",
    "# # 4) Affichage des percentiles et des effectifs\n",
    "# print(f\"10ᵉ percentile : {p10:.0f}\")\n",
    "# print(f\"90ᵉ percentile : {p90:.0f}\")\n",
    "# print(f\"95ᵉ percentile : {p95:.0f}\")\n",
    "\n",
    "# total = len(df)\n",
    "# n_above_p90 = (df['price'] > p90).sum()\n",
    "# n_above_p95 = (df['price'] > p95).sum()\n",
    "# n_below_p10 = (df['price'] < p10).sum()\n",
    "\n",
    "# print(f\"Biens > p90 : {n_above_p90} soit {n_above_p90/total:.2%}\")\n",
    "# print(f\"Biens > p95 : {n_above_p95} soit {n_above_p95/total:.2%}\")\n",
    "# print(f\"Biens < p10 : {n_below_p10} soit {n_below_p10/total:.2%}\")\n",
    "\n",
    "# # 5) Calcul et affichage du mode (première valeur si plusieurs)\n",
    "# mode_floor = df['price'].mode().iloc[0]\n",
    "# print(f\"Mode de price : {mode_floor}\")\n"
   ]
  },
  {
   "cell_type": "code",
   "execution_count": null,
   "id": "61384a52",
   "metadata": {},
   "outputs": [
    {
     "ename": "",
     "evalue": "",
     "output_type": "error",
     "traceback": [
      "\u001b[1;31mnotebook controller is DISPOSED. \n",
      "\u001b[1;31mView Jupyter <a href='command:jupyter.viewOutput'>log</a> for further details."
     ]
    }
   ],
   "source": [
    "# Fermer graph pour libérer la mémoire\n",
    "plt.close(\"all\")"
   ]
  },
  {
   "cell_type": "markdown",
   "id": "4fcc0f76",
   "metadata": {},
   "source": [
    "Keep bedrooms <= 7"
   ]
  },
  {
   "cell_type": "code",
   "execution_count": null,
   "id": "81052b73",
   "metadata": {},
   "outputs": [
    {
     "ename": "",
     "evalue": "",
     "output_type": "error",
     "traceback": [
      "\u001b[1;31mnotebook controller is DISPOSED. \n",
      "\u001b[1;31mView Jupyter <a href='command:jupyter.viewOutput'>log</a> for further details."
     ]
    }
   ],
   "source": [
    "df = df[\n",
    "    (df[\"bedroomCount\"] <= 7) | df[\"bedroomCount\"].isna()\n",
    "]\n"
   ]
  },
  {
   "cell_type": "markdown",
   "id": "0a380670",
   "metadata": {},
   "source": [
    "Keep houses contructed between 1850 and 2025"
   ]
  },
  {
   "cell_type": "code",
   "execution_count": null,
   "id": "7f751f33",
   "metadata": {},
   "outputs": [
    {
     "ename": "",
     "evalue": "",
     "output_type": "error",
     "traceback": [
      "\u001b[1;31mnotebook controller is DISPOSED. \n",
      "\u001b[1;31mView Jupyter <a href='command:jupyter.viewOutput'>log</a> for further details."
     ]
    }
   ],
   "source": [
    "df = df[\n",
    "    (df[\"buildingConstructionYear\"].between(1850, 2025)) | df[\"buildingConstructionYear\"].isna()\n",
    "]"
   ]
  },
  {
   "cell_type": "markdown",
   "id": "8f476720",
   "metadata": {},
   "source": [
    "Bathrooms count <= 3"
   ]
  },
  {
   "cell_type": "code",
   "execution_count": null,
   "id": "e2cadae6",
   "metadata": {},
   "outputs": [
    {
     "ename": "",
     "evalue": "",
     "output_type": "error",
     "traceback": [
      "\u001b[1;31mnotebook controller is DISPOSED. \n",
      "\u001b[1;31mView Jupyter <a href='command:jupyter.viewOutput'>log</a> for further details."
     ]
    }
   ],
   "source": [
    "df = df[\n",
    "    (df[\"bathroomCount\"] <= 3) | df[\"bathroomCount\"].isna()\n",
    "]"
   ]
  },
  {
   "cell_type": "markdown",
   "id": "915f5dde",
   "metadata": {},
   "source": [
    "Habitable surface"
   ]
  },
  {
   "cell_type": "code",
   "execution_count": null,
   "id": "7e3b13aa",
   "metadata": {},
   "outputs": [
    {
     "ename": "",
     "evalue": "",
     "output_type": "error",
     "traceback": [
      "\u001b[1;31mnotebook controller is DISPOSED. \n",
      "\u001b[1;31mView Jupyter <a href='command:jupyter.viewOutput'>log</a> for further details."
     ]
    }
   ],
   "source": [
    "# Fourchettte entre 5 et 500 m² pour rester dans un marché immo le plus représentatif\n",
    "df_domain = df[(df[\"habitableSurface\"] >= 5) & (df[\"habitableSurface\"] <= 500)]"
   ]
  },
  {
   "cell_type": "markdown",
   "id": "fa63aa18",
   "metadata": {},
   "source": [
    "Facede count\n",
    "Max. 4"
   ]
  },
  {
   "cell_type": "code",
   "execution_count": null,
   "id": "798ff363",
   "metadata": {},
   "outputs": [
    {
     "ename": "",
     "evalue": "",
     "output_type": "error",
     "traceback": [
      "\u001b[1;31mnotebook controller is DISPOSED. \n",
      "\u001b[1;31mView Jupyter <a href='command:jupyter.viewOutput'>log</a> for further details."
     ]
    }
   ],
   "source": [
    "df = df[\n",
    "    (df[\"facedeCount\"] <= 4) | df[\"facedeCount\"].isna()\n",
    "]"
   ]
  },
  {
   "cell_type": "markdown",
   "id": "a562d97a",
   "metadata": {},
   "source": [
    "FloorCount\n",
    "\n",
    "Remplacer les NaN de floorCount par zéro    \n",
    "\n",
    " Séparation du champ unique `floorCount` en deux colonnes distinctes :\n",
    "  - `building_floors`  : nombre total d'étages du bâtiment (valide pour les maisons)\n",
    "  - `apartment_floor`  : étage où se situe l’appartement (valide pour les appartements)\n",
    "  \n",
    " Méthode :\n",
    " 1) On teste, ligne par ligne, si `propertyType` vaut \"house\" ou \"apartment\".\n",
    " 2) Si c'est une maison, on recopie `floorCount` dans `building_floors` et on met NaN dans `apartment_floor`.\n",
    " 3) Si c'est un appartement, on recopie `floorCount` dans `apartment_floor` et on met NaN dans `building_floors`.\n",
    " 4) Enfin, on supprime l’ancienne colonne `floorCount` car elle n’est plus nécessaire.\n",
    " 5) Pour terminer, remplacer les Nan structurels car il y en beaucoup de trop\n"
   ]
  },
  {
   "cell_type": "code",
   "execution_count": null,
   "id": "ef584289",
   "metadata": {},
   "outputs": [
    {
     "name": "stdout",
     "output_type": "stream",
     "text": [
      "apartment_floor    0\n",
      "building_floors    0\n",
      "dtype: int64\n"
     ]
    },
    {
     "ename": "",
     "evalue": "",
     "output_type": "error",
     "traceback": [
      "\u001b[1;31mnotebook controller is DISPOSED. \n",
      "\u001b[1;31mView Jupyter <a href='command:jupyter.viewOutput'>log</a> for further details."
     ]
    }
   ],
   "source": [
    "# NaN floorCount = 0\n",
    "df['floorCount'] = df['floorCount'].fillna(0)\n",
    "\n",
    "# Split floorCount\n",
    "df['building_floors'] = np.where(\n",
    "    df['type'] == 'HOUSE',\n",
    "    df['floorCount'],\n",
    "    np.nan\n",
    ")\n",
    "\n",
    "df['apartment_floor'] = np.where(\n",
    "    df['type'] == 'APARTMENT',\n",
    "    df['floorCount'],\n",
    "    np.nan\n",
    ")\n",
    "\n",
    "\n",
    "\n",
    "# Remplacer les NaN structurels par 0\n",
    "df.loc[df['type'] == 'HOUSE', 'apartment_floor'] = df.loc[df['type'] == 'HOUSE', 'apartment_floor'].fillna(0)\n",
    "df.loc[df['type'] == 'APARTMENT', 'building_floors'] = df.loc[df['type'] == 'APARTMENT', 'building_floors'].fillna(0)\n",
    "\n",
    "# Vérifie s'il reste des NaN dans ces colonnes (il ne devrait plus y en avoir si tous les biens sont soit 'HOUSE' soit 'APARTMENT')\n",
    "print(df[['apartment_floor', 'building_floors']].isnull().sum())\n",
    "\n",
    "df = df.drop(columns=['floorCount'])"
   ]
  },
  {
   "cell_type": "markdown",
   "id": "51e34f35",
   "metadata": {},
   "source": [
    "landSurface\n",
    "\n",
    "<= 2000 m²"
   ]
  },
  {
   "cell_type": "code",
   "execution_count": null,
   "id": "7e386969",
   "metadata": {},
   "outputs": [
    {
     "ename": "",
     "evalue": "",
     "output_type": "error",
     "traceback": [
      "\u001b[1;31mnotebook controller is DISPOSED. \n",
      "\u001b[1;31mView Jupyter <a href='command:jupyter.viewOutput'>log</a> for further details."
     ]
    }
   ],
   "source": [
    "df = df[\n",
    "    (df[\"landSurface\"] <= 2000) | df[\"landSurface\"].isna()\n",
    "]"
   ]
  },
  {
   "cell_type": "markdown",
   "id": "9d681840",
   "metadata": {},
   "source": [
    "Garden surface :\n",
    "- Drop outliers > 2000 m²\n",
    "- If NaN, it's because there is not garden because the col hasGarden have the same values missings count\n",
    "- Convert hasGarden in bool\n",
    "- If hasGarden = False --> gardenSurface = 0"
   ]
  },
  {
   "cell_type": "code",
   "execution_count": null,
   "id": "fa31ece8",
   "metadata": {},
   "outputs": [
    {
     "name": "stdout",
     "output_type": "stream",
     "text": [
      "bool\n"
     ]
    },
    {
     "ename": "",
     "evalue": "",
     "output_type": "error",
     "traceback": [
      "\u001b[1;31mnotebook controller is DISPOSED. \n",
      "\u001b[1;31mView Jupyter <a href='command:jupyter.viewOutput'>log</a> for further details."
     ]
    }
   ],
   "source": [
    "# Drop outliers\n",
    "df = df[\n",
    "    (df[\"gardenSurface\"] <= 2000) | df[\"gardenSurface\"].isna()\n",
    "]\n",
    "\n",
    "# Convert hasGaren in bool\n",
    "df['hasGarden'] = df['hasGarden'].fillna(False).astype(bool)\n",
    "print(df['hasGarden'].dtype)\n",
    "\n",
    "# False --> 0\n",
    "df.loc[df['hasGarden'] == False, 'gardenSurface'] = 0\n",
    "\n",
    "# print(df[['hasGarden','gardenSurface']].head(10))\n"
   ]
  },
  {
   "cell_type": "markdown",
   "id": "9eb26b8b",
   "metadata": {},
   "source": [
    "Toilet count <= 3 (95% percentile)"
   ]
  },
  {
   "cell_type": "code",
   "execution_count": null,
   "id": "5779d52a",
   "metadata": {},
   "outputs": [
    {
     "ename": "",
     "evalue": "",
     "output_type": "error",
     "traceback": [
      "\u001b[1;31mnotebook controller is DISPOSED. \n",
      "\u001b[1;31mView Jupyter <a href='command:jupyter.viewOutput'>log</a> for further details."
     ]
    }
   ],
   "source": [
    "df = df[\n",
    "    (df[\"toiletCount\"] <= 3) | df[\"toiletCount\"].isna()\n",
    "]"
   ]
  },
  {
   "cell_type": "markdown",
   "id": "b0e8542c",
   "metadata": {},
   "source": [
    "Price\n",
    "<= 1.000.000€"
   ]
  },
  {
   "cell_type": "code",
   "execution_count": null,
   "id": "2c6f2d49",
   "metadata": {},
   "outputs": [
    {
     "ename": "",
     "evalue": "",
     "output_type": "error",
     "traceback": [
      "\u001b[1;31mnotebook controller is DISPOSED. \n",
      "\u001b[1;31mView Jupyter <a href='command:jupyter.viewOutput'>log</a> for further details."
     ]
    }
   ],
   "source": [
    "df = df[\n",
    "    (df[\"price\"] <= 1000000) | df[\"price\"].isna()\n",
    "]"
   ]
  },
  {
   "cell_type": "markdown",
   "id": "90e800d0",
   "metadata": {},
   "source": [
    "### Handle epcScore"
   ]
  },
  {
   "cell_type": "code",
   "execution_count": null,
   "id": "6ae12dc3",
   "metadata": {},
   "outputs": [
    {
     "ename": "",
     "evalue": "",
     "output_type": "error",
     "traceback": [
      "\u001b[1;31mnotebook controller is DISPOSED. \n",
      "\u001b[1;31mView Jupyter <a href='command:jupyter.viewOutput'>log</a> for further details."
     ]
    }
   ],
   "source": [
    "# add region information\n",
    "def get_region(zip_code):\n",
    "     # On tente de convertir en int\n",
    "    try:\n",
    "        z = int(zip_code)\n",
    "    except (ValueError, TypeError):\n",
    "        return pd.NA    \n",
    "\n",
    "    if 1000 <= z <= 1299:\n",
    "        return \"Bruxelles\"\n",
    "    elif 1300 <= z <= 1499 or 4000 <= z <= 7999:\n",
    "        return \"Wallonia\"\n",
    "    else:\n",
    "        return \"Flanders\"\n",
    "\n",
    "df['region'] = df['postCode'].apply(get_region)\n",
    "\n",
    "def epcToNumeric(row):\n",
    "    region = row['region']\n",
    "    epc_score = row['epcScore']\n",
    "    \n",
    "    epc_mapping = {\n",
    "        'Flanders': {\n",
    "            'A++': 0,\n",
    "            'A+': 0,\n",
    "            'A': 100,\n",
    "            'B': 200,\n",
    "            'C': 300,\n",
    "            'D': 400,\n",
    "            'E': 500,\n",
    "            'F': 600,\n",
    "            'G': 700\n",
    "        },\n",
    "        'Wallonia': {\n",
    "            'A++': 0,\n",
    "            'A+': 50,\n",
    "            'A': 90,\n",
    "            'B': 170,\n",
    "            'C': 250,\n",
    "            'D': 330,\n",
    "            'E': 420,\n",
    "            'F': 510,\n",
    "            'G': 600\n",
    "        },\n",
    "        'Bruxelles': {\n",
    "            'A++': 0,\n",
    "            'A+': 0,\n",
    "            'A': 45,\n",
    "            'B': 95,\n",
    "            'C': 145,\n",
    "            'D': 210,\n",
    "            'E': 275,\n",
    "            'F': 345,\n",
    "            'G': 450\n",
    "        }\n",
    "    }\n",
    "    \n",
    "    return epc_mapping.get(region, {}).get(epc_score, None)"
   ]
  },
  {
   "cell_type": "code",
   "execution_count": null,
   "id": "e6f665fb",
   "metadata": {},
   "outputs": [
    {
     "ename": "",
     "evalue": "",
     "output_type": "error",
     "traceback": [
      "\u001b[1;31mnotebook controller is DISPOSED. \n",
      "\u001b[1;31mView Jupyter <a href='command:jupyter.viewOutput'>log</a> for further details."
     ]
    }
   ],
   "source": [
    "df['epcNumeric'] = df.apply(epcToNumeric, axis=1)\n",
    "\n",
    "df = df.drop(columns=['epcScore'])\n"
   ]
  },
  {
   "cell_type": "markdown",
   "id": "3317bca4",
   "metadata": {},
   "source": [
    "### Handle NaN"
   ]
  },
  {
   "cell_type": "code",
   "execution_count": null,
   "id": "bc8d4007",
   "metadata": {},
   "outputs": [
    {
     "name": "stdout",
     "output_type": "stream",
     "text": [
      "6 valeurs manquantes dans price\n",
      "Index(['type', 'bedroomCount', 'bathroomCount', 'province', 'locality',\n",
      "       'postCode', 'habitableSurface', 'buildingCondition',\n",
      "       'buildingConstructionYear', 'facedeCount', 'floodZoneType',\n",
      "       'heatingType', 'kitchenType', 'landSurface', 'hasGarden',\n",
      "       'gardenSurface', 'toiletCount', 'hasSwimmingPool', 'hasFireplace',\n",
      "       'hasTerrace', 'price', 'subtype_grouped', 'building_floors',\n",
      "       'apartment_floor', 'region', 'epcNumeric'],\n",
      "      dtype='object')\n"
     ]
    },
    {
     "ename": "",
     "evalue": "",
     "output_type": "error",
     "traceback": [
      "\u001b[1;31mnotebook controller is DISPOSED. \n",
      "\u001b[1;31mView Jupyter <a href='command:jupyter.viewOutput'>log</a> for further details."
     ]
    }
   ],
   "source": [
    "# Vérifier le nombre de NaN dans price\n",
    "print(df['price'].isna().sum(), \"valeurs manquantes dans price\")\n",
    "\n",
    "# Supprimer ces lignes\n",
    "df.dropna(subset=['price'], inplace=True)\n",
    "\n",
    "print(df.columns)\n"
   ]
  },
  {
   "cell_type": "code",
   "execution_count": null,
   "id": "a219e78d",
   "metadata": {},
   "outputs": [
    {
     "name": "stdout",
     "output_type": "stream",
     "text": [
      "bool\n",
      "bool\n",
      "bool\n"
     ]
    },
    {
     "ename": "",
     "evalue": "",
     "output_type": "error",
     "traceback": [
      "\u001b[1;31mnotebook controller is DISPOSED. \n",
      "\u001b[1;31mView Jupyter <a href='command:jupyter.viewOutput'>log</a> for further details."
     ]
    }
   ],
   "source": [
    "# replace NaN with False in bool features\n",
    "df['hasSwimmingPool'] = df['hasSwimmingPool'].fillna(False).astype(bool)\n",
    "print(df['hasSwimmingPool'].dtype)\n",
    "\n",
    "df['hasFireplace'] = df['hasFireplace'].fillna(False).astype(bool)\n",
    "print(df['hasFireplace'].dtype)\n",
    "\n",
    "df['hasTerrace'] = df['hasTerrace'].fillna(False).astype(bool)\n",
    "print(df['hasTerrace'].dtype)"
   ]
  },
  {
   "cell_type": "markdown",
   "id": "526322cc",
   "metadata": {},
   "source": [
    "### Check type for each features"
   ]
  },
  {
   "cell_type": "code",
   "execution_count": null,
   "id": "e0e17089",
   "metadata": {},
   "outputs": [
    {
     "name": "stdout",
     "output_type": "stream",
     "text": [
      "type : object\n",
      "bedroomCount : float64\n",
      "bathroomCount : float64\n",
      "province : object\n",
      "locality : object\n",
      "postCode : int64\n",
      "habitableSurface : float64\n",
      "buildingCondition : object\n",
      "buildingConstructionYear : float64\n",
      "facedeCount : float64\n",
      "floodZoneType : object\n",
      "heatingType : object\n",
      "kitchenType : object\n",
      "landSurface : float64\n",
      "hasGarden : bool\n",
      "gardenSurface : float64\n",
      "toiletCount : float64\n",
      "hasSwimmingPool : bool\n",
      "hasFireplace : bool\n",
      "hasTerrace : bool\n",
      "price : float64\n",
      "subtype_grouped : object\n",
      "building_floors : float64\n",
      "apartment_floor : float64\n",
      "region : object\n",
      "epcNumeric : float64\n"
     ]
    },
    {
     "ename": "",
     "evalue": "",
     "output_type": "error",
     "traceback": [
      "\u001b[1;31mnotebook controller is DISPOSED. \n",
      "\u001b[1;31mView Jupyter <a href='command:jupyter.viewOutput'>log</a> for further details."
     ]
    }
   ],
   "source": [
    "# Check type\n",
    "\n",
    "for col in df.columns:\n",
    "    print(f\"{col} : {df[col].dtype}\")\n",
    "\n"
   ]
  },
  {
   "cell_type": "markdown",
   "id": "eeed1e06",
   "metadata": {},
   "source": [
    "#### Adapt type for each features"
   ]
  },
  {
   "cell_type": "markdown",
   "id": "b7dbf60a",
   "metadata": {},
   "source": [
    "type : object --> str\n",
    "\n",
    "bedroomCount : float64 --> Int64\n",
    "\n",
    "bathroomCount : float64 --> Int64\n",
    "\n",
    "province : object --> str\n",
    "\n",
    "locality : object --> str\n",
    "\n",
    "postCode : Int64 --> str \n",
    "\n",
    "habitableSurface : float64\n",
    "\n",
    "buildingCondition : object --> str\n",
    "\n",
    "buildingConstructionYear : float64 --> Int64\n",
    "\n",
    "facedeCount : float64 --> Int64\n",
    "\n",
    "floodZoneType : object --> str\n",
    "\n",
    "heatingType : object --> str\n",
    "\n",
    "kitchenType : object --> str\n",
    "\n",
    "landSurface : float64 \n",
    "\n",
    "hasGarden : bool\n",
    "\n",
    "gardenSurface : float64\n",
    "\n",
    "toiletCount : float64 --> Int64\n",
    "\n",
    "hasSwimmingPool : object --> bool\n",
    "\n",
    "hasFireplace : object --> bool\n",
    "\n",
    "hasTerrace : object --> bool\n",
    "\n",
    "epcScore : object --> cf. def epcToNumeric from Robin\n",
    "\n",
    "price : float64\n",
    "\n",
    "subtype_grouped : object --> str\n",
    "\n",
    "building_floors : float64 --> Int64\n",
    "\n",
    "apartment_floor : float64 --> Int64\n"
   ]
  },
  {
   "cell_type": "code",
   "execution_count": null,
   "id": "66b61236",
   "metadata": {},
   "outputs": [
    {
     "data": {
      "text/plain": [
       "type                        string[python]\n",
       "bedroomCount                         Int64\n",
       "bathroomCount                        Int64\n",
       "province                    string[python]\n",
       "locality                    string[python]\n",
       "postCode                             Int64\n",
       "habitableSurface                     Int64\n",
       "buildingCondition           string[python]\n",
       "buildingConstructionYear             Int64\n",
       "facedeCount                          Int64\n",
       "floodZoneType               string[python]\n",
       "heatingType                 string[python]\n",
       "kitchenType                 string[python]\n",
       "landSurface                          Int64\n",
       "hasGarden                          boolean\n",
       "gardenSurface                        Int64\n",
       "toiletCount                          Int64\n",
       "hasSwimmingPool                    boolean\n",
       "hasFireplace                       boolean\n",
       "hasTerrace                         boolean\n",
       "price                                Int64\n",
       "subtype_grouped             string[python]\n",
       "building_floors                      Int64\n",
       "apartment_floor                      Int64\n",
       "region                      string[python]\n",
       "epcNumeric                           Int64\n",
       "dtype: object"
      ]
     },
     "execution_count": 100,
     "metadata": {},
     "output_type": "execute_result"
    },
    {
     "ename": "",
     "evalue": "",
     "output_type": "error",
     "traceback": [
      "\u001b[1;31mnotebook controller is DISPOSED. \n",
      "\u001b[1;31mView Jupyter <a href='command:jupyter.viewOutput'>log</a> for further details."
     ]
    }
   ],
   "source": [
    "df = df.convert_dtypes()\n",
    "\n",
    "df.dtypes"
   ]
  },
  {
   "cell_type": "code",
   "execution_count": null,
   "id": "2eb4f658",
   "metadata": {},
   "outputs": [
    {
     "data": {
      "text/plain": [
       "type                        string[python]\n",
       "bedroomCount                         Int64\n",
       "bathroomCount                        Int64\n",
       "province                    string[python]\n",
       "locality                    string[python]\n",
       "postCode                    string[python]\n",
       "habitableSurface                     Int64\n",
       "buildingCondition           string[python]\n",
       "buildingConstructionYear             Int64\n",
       "facedeCount                          Int64\n",
       "floodZoneType               string[python]\n",
       "heatingType                 string[python]\n",
       "kitchenType                 string[python]\n",
       "landSurface                          Int64\n",
       "hasGarden                          boolean\n",
       "gardenSurface                        Int64\n",
       "toiletCount                          Int64\n",
       "hasSwimmingPool                    boolean\n",
       "hasFireplace                       boolean\n",
       "hasTerrace                         boolean\n",
       "price                                Int64\n",
       "subtype_grouped             string[python]\n",
       "building_floors                      Int64\n",
       "apartment_floor                      Int64\n",
       "region                      string[python]\n",
       "epcNumeric                           Int64\n",
       "dtype: object"
      ]
     },
     "execution_count": 101,
     "metadata": {},
     "output_type": "execute_result"
    },
    {
     "ename": "",
     "evalue": "",
     "output_type": "error",
     "traceback": [
      "\u001b[1;31mnotebook controller is DISPOSED. \n",
      "\u001b[1;31mView Jupyter <a href='command:jupyter.viewOutput'>log</a> for further details."
     ]
    }
   ],
   "source": [
    "# postCode to str / treat it as an identifier/category, not as a number\n",
    "\n",
    "df[\"postCode\"] = df[\"postCode\"].astype(\"string\")\n",
    "\n",
    "df.dtypes\n"
   ]
  },
  {
   "cell_type": "markdown",
   "id": "102b7cfe",
   "metadata": {},
   "source": [
    "### "
   ]
  },
  {
   "cell_type": "markdown",
   "id": "0c03b924",
   "metadata": {},
   "source": [
    "- normaliser les chiffres --> scaler = Pycaret\n",
    "- remplacer les values de majuscules à MajMin\n",
    "- traduire en français\n",
    "- vérifier l'harmonisation des données de provinces\n",
    "- harmoniser les locality\n",
    "- réflechir comment gérer les types de cuisines (je garde les USA ou non)"
   ]
  },
  {
   "cell_type": "markdown",
   "id": "2d1598b5",
   "metadata": {},
   "source": [
    "Corrélation"
   ]
  },
  {
   "cell_type": "code",
   "execution_count": null,
   "id": "46450b4e",
   "metadata": {},
   "outputs": [
    {
     "ename": "",
     "evalue": "",
     "output_type": "error",
     "traceback": [
      "\u001b[1;31mnotebook controller is DISPOSED. \n",
      "\u001b[1;31mView Jupyter <a href='command:jupyter.viewOutput'>log</a> for further details."
     ]
    }
   ],
   "source": [
    "# corr_matrix = df.corr(numeric_only=True).abs()\n",
    "# print(corr_matrix)\n",
    "\n",
    "\n",
    "# # masque la triangle supérieure\n",
    "# mask = np.triu(np.ones_like(corr_matrix, dtype=bool))\n",
    "\n",
    "# plt.figure(figsize=(12, 10))\n",
    "# sns.heatmap(\n",
    "#     corr_matrix,\n",
    "#     mask=mask,\n",
    "#     annot=True,\n",
    "#     fmt=\".2f\",\n",
    "#     cmap=\"coolwarm\",\n",
    "#     square=True,\n",
    "#     cbar_kws={\"shrink\": .75}\n",
    "# )\n",
    "# plt.title(\"Heatmap des corrélations (triangle inférieure)\")\n",
    "# plt.show()"
   ]
  },
  {
   "cell_type": "markdown",
   "id": "91fb3bdc",
   "metadata": {},
   "source": [
    "### Save dataset"
   ]
  },
  {
   "cell_type": "code",
   "execution_count": null,
   "id": "ff1f9903",
   "metadata": {},
   "outputs": [
    {
     "ename": "",
     "evalue": "",
     "output_type": "error",
     "traceback": [
      "\u001b[1;31mnotebook controller is DISPOSED. \n",
      "\u001b[1;31mView Jupyter <a href='command:jupyter.viewOutput'>log</a> for further details."
     ]
    }
   ],
   "source": [
    "df.to_csv(\"data/Kangaroo_cleaned.csv\", index=False)"
   ]
  },
  {
   "cell_type": "markdown",
   "id": "b67f9df9",
   "metadata": {},
   "source": [
    "### Checking"
   ]
  },
  {
   "cell_type": "code",
   "execution_count": null,
   "id": "0af6a69b",
   "metadata": {},
   "outputs": [
    {
     "name": "stdout",
     "output_type": "stream",
     "text": [
      "Index(['type', 'bedroomCount', 'bathroomCount', 'province', 'locality',\n",
      "       'postCode', 'habitableSurface', 'buildingCondition',\n",
      "       'buildingConstructionYear', 'facedeCount', 'floodZoneType',\n",
      "       'heatingType', 'kitchenType', 'landSurface', 'hasGarden',\n",
      "       'gardenSurface', 'toiletCount', 'hasSwimmingPool', 'hasFireplace',\n",
      "       'hasTerrace', 'price', 'subtype_grouped', 'building_floors',\n",
      "       'apartment_floor', 'region', 'epcNumeric'],\n",
      "      dtype='object')\n"
     ]
    },
    {
     "ename": "",
     "evalue": "",
     "output_type": "error",
     "traceback": [
      "\u001b[1;31mnotebook controller is DISPOSED. \n",
      "\u001b[1;31mView Jupyter <a href='command:jupyter.viewOutput'>log</a> for further details."
     ]
    }
   ],
   "source": [
    "print(df.columns)\n"
   ]
  },
  {
   "cell_type": "code",
   "execution_count": null,
   "id": "fca42ecb",
   "metadata": {},
   "outputs": [
    {
     "name": "stdout",
     "output_type": "stream",
     "text": [
      "Int64\n",
      "5234\n",
      "price\n",
      "299000    1257\n",
      "249000    1082\n",
      "199000     998\n",
      "295000     943\n",
      "349000     825\n",
      "Name: count, dtype: Int64\n"
     ]
    },
    {
     "ename": "",
     "evalue": "",
     "output_type": "error",
     "traceback": [
      "\u001b[1;31mnotebook controller is DISPOSED. \n",
      "\u001b[1;31mView Jupyter <a href='command:jupyter.viewOutput'>log</a> for further details."
     ]
    },
    {
     "ename": "",
     "evalue": "",
     "output_type": "error",
     "traceback": [
      "\u001b[1;31mnotebook controller is DISPOSED. \n",
      "\u001b[1;31mView Jupyter <a href='command:jupyter.viewOutput'>log</a> for further details."
     ]
    },
    {
     "ename": "",
     "evalue": "",
     "output_type": "error",
     "traceback": [
      "\u001b[1;31mnotebook controller is DISPOSED. \n",
      "\u001b[1;31mView Jupyter <a href='command:jupyter.viewOutput'>log</a> for further details."
     ]
    }
   ],
   "source": [
    "# Vérifications essentielles\n",
    "print(df['price'].dtype)  # Devrait être float64 ou int64\n",
    "print(df['price'].nunique())  # Combien de valeurs uniques?\n",
    "print(df['price'].value_counts().head())  # Distribution des valeurs les plus fréquentes\n"
   ]
  },
  {
   "cell_type": "code",
   "execution_count": null,
   "id": "59ac112b",
   "metadata": {},
   "outputs": [
    {
     "data": {
      "text/plain": [
       "0.0"
      ]
     },
     "execution_count": 57,
     "metadata": {},
     "output_type": "execute_result"
    },
    {
     "ename": "",
     "evalue": "",
     "output_type": "error",
     "traceback": [
      "\u001b[1;31mnotebook controller is DISPOSED. \n",
      "\u001b[1;31mView Jupyter <a href='command:jupyter.viewOutput'>log</a> for further details."
     ]
    },
    {
     "ename": "",
     "evalue": "",
     "output_type": "error",
     "traceback": [
      "\u001b[1;31mnotebook controller is DISPOSED. \n",
      "\u001b[1;31mView Jupyter <a href='command:jupyter.viewOutput'>log</a> for further details."
     ]
    },
    {
     "ename": "",
     "evalue": "",
     "output_type": "error",
     "traceback": [
      "\u001b[1;31mnotebook controller is DISPOSED. \n",
      "\u001b[1;31mView Jupyter <a href='command:jupyter.viewOutput'>log</a> for further details."
     ]
    }
   ],
   "source": [
    "data.isnull().sum() / len(data) * 100."
   ]
  }
 ],
 "metadata": {
  "kernelspec": {
   "display_name": "machinelearning_venv",
   "language": "python",
   "name": "python3"
  },
  "language_info": {
   "codemirror_mode": {
    "name": "ipython",
    "version": 3
   },
   "file_extension": ".py",
   "mimetype": "text/x-python",
   "name": "python",
   "nbconvert_exporter": "python",
   "pygments_lexer": "ipython3",
   "version": "3.11.7"
  }
 },
 "nbformat": 4,
 "nbformat_minor": 5
}
